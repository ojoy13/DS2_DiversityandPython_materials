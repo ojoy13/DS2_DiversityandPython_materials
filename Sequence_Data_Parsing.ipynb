{
 "cells": [
  {
   "cell_type": "markdown",
   "id": "041c4d6b-ec98-4ba1-b4bc-533e119c2b47",
   "metadata": {},
   "source": [
    "# sequence data parsing\n",
    "https://pypi.org/project/fastq/\n",
    "\n",
    "* get sequences from SRA/NCBI\n",
    "* count sequencces\n",
    "* quality of sequences\n",
    "\n",
    "https://ucdavis-bioinformatics-training.github.io/2022-Feb-Introduction-To-Python-For-Bioinformatics/python/python5\n",
    "biopython"
   ]
  },
  {
   "cell_type": "code",
   "execution_count": null,
   "id": "4d3d0f8c-d270-4b18-9376-194c1ff98b0b",
   "metadata": {},
   "outputs": [],
   "source": []
  }
 ],
 "metadata": {
  "kernelspec": {
   "display_name": "Python 3 (ipykernel)",
   "language": "python",
   "name": "python3"
  },
  "language_info": {
   "codemirror_mode": {
    "name": "ipython",
    "version": 3
   },
   "file_extension": ".py",
   "mimetype": "text/x-python",
   "name": "python",
   "nbconvert_exporter": "python",
   "pygments_lexer": "ipython3",
   "version": "3.10.8"
  }
 },
 "nbformat": 4,
 "nbformat_minor": 5
}
